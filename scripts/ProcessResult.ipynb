{
 "cells": [
  {
   "cell_type": "code",
   "execution_count": null,
   "metadata": {
    "collapsed": false,
    "deletable": true,
    "editable": true
   },
   "outputs": [],
   "source": [
    "import matplotlib\n",
    "#matplotlib.use('GtkAgg')\n",
    "import matplotlib.pyplot as plt\n",
    "import scipy.stats as stats\n",
    "import os\n",
    "import sys\n",
    "from multiprocessing import Pool\n",
    "import copy\n",
    "from math import ceil\n",
    "import numpy as np\n",
    "import pickle\n",
    "\n",
    "sys.path.append('../src')\n",
    "import util\n",
    "\n",
    "def load_pickle(datapath):\n",
    "    data_file = open(datapath, 'rb')\n",
    "    data = pickle.load(data_file)\n",
    "    data_file.close()\n",
    "    \n",
    "    return data\n",
    "    \n",
    "    \"\"\" \n",
    "    data was saved as: \n",
    "    [\n",
    "        np.mean(executionRewardsActions, 0),\n",
    "        np.mean(executionRewardsLtD, 0),\n",
    "        np.mean(p_best_lta, 0),\n",
    "        np.mean(p_best_ltd, 0),\n",
    "        np.mean(cumulative_rewards_lta, 0),\n",
    "        np.mean(cumulative_rewards_ltd, 0),\n",
    "        np.mean(times_best_lta, 0),\n",
    "        np.mean(times_best_ltd, 0),\n",
    "    ]\n",
    "    \"\"\"\n",
    "    \n",
    "    \n",
    "\n",
    "def tau(datapath):\n",
    "    data = load_pickle(datapath)\n",
    "    rwd_lta, rwd_ltd, pbest_lta, pbest_ltd, cmrwd_lta, cmrwd_ltd, tbest_lta, tbest_ltd, tau_rwd = data\n",
    "    \n",
    "    return util.meeting_point(pbest_lta, pbest_ltd)\n",
    "    \n",
    "    \n",
    "\n",
    "def plot(lta_data, ltd_data, ylabel, ltd_name, figpath, figsuffix):\n",
    "    plt.figure()\n",
    "    plt.plot(lta_data,label=\"LtA\")\n",
    "    plt.plot(ltd_data,label=ltd_name)\n",
    "    plt.xlabel(\"Iteration\")\n",
    "    plt.ylabel(ylabel)\n",
    "    plt.legend()\n",
    "    plt.show()  #it does not work\n",
    "    plt.savefig(os.path.join(figpath, '%s_%s.pdf' % (ltd_name.lower(), figsuffix))) #it works\n",
    "    plt.close()\n",
    "    \n",
    "    \n",
    "def plot_all(datapath, ltd_name, figpath):\n",
    "    data = load_pickle(datapath)\n",
    "    rwd_lta, rwd_ltd, mean_pbest_lta, mean_pbest_ltd, cmrwd_lta, cmrwd_ltd, tbest_lta, tbest_ltd, meeting_point = data\n",
    "\n",
    "    plot(rwd_lta, rwd_ltd, 'Reward', ltd_name, figpath, 'reward')\n",
    "    plot(mean_pbest_lta, mean_pbest_ltd, 'Prob. of best action', ltd_name, figpath, 'pbest')\n",
    "    plot(cmrwd_lta, cmrwd_ltd, 'Cumulative reward', ltd_name, figpath, 'cmreward')\n",
    "    plot(tbest_lta, tbest_ltd, 'Cumulative #selections of best action', ltd_name, figpath, 'tbest')\n",
    "    \n",
    "    print('Tau_r = %d' % meeting_point)\n",
    "    \n",
    "'''\n",
    "def plot_pbest(datapath, ltd_name, figpath):\n",
    "    \n",
    "    mean_rewards_lta, mean_rewards_ltd, mean_pbest_lta, mean_pbest_ltd, cmrwd_lta, cmrwd_ltd, tbest_lta, tbest_ltd, meeting_point = load_pickle(datapath)\n",
    "\n",
    "    plt.figure()\n",
    "    plt.plot(mean_rewards_lta,label=\"LtA\")\n",
    "    plt.plot(mean_rewards_ltd,label=ltd_name)\n",
    "    plt.xlabel(\"Iteration\")\n",
    "    plt.ylabel(\"Reward\")\n",
    "    plt.legend()\n",
    "    plt.show()  #it does not work\n",
    "    plt.savefig(os.path.join(figpath, 'rewards_%s.pdf' % ltd_name)) #it works\n",
    "    plt.close()\n",
    "'''   \n",
    "\n",
    "pass\n"
   ]
  },
  {
   "cell_type": "code",
   "execution_count": null,
   "metadata": {
    "collapsed": false,
    "deletable": true,
    "editable": true
   },
   "outputs": [],
   "source": [
    "for bandit_size in [100, 200, 300]:\n",
    "    for team_size in [10,20,30]:\n",
    "        for mu in [0.2,0.4,0.6]:\n",
    "            exp_path = '%d/%d/%.2f' % (bandit_size, team_size, mu)\n",
    "            \n",
    "            path = '/tmp/results_gaussian/%s/results.pickle' % exp_path\n",
    "            \n",
    "            print(exp_path)\n",
    "        \n",
    "            plot_all(path, 'gauss', '/tmp')"
   ]
  },
  {
   "cell_type": "code",
   "execution_count": null,
   "metadata": {
    "collapsed": false,
    "deletable": true,
    "editable": true,
    "scrolled": false
   },
   "outputs": [],
   "source": [
    "for bandit_size in [100, 200, 300]:\n",
    "    for team_size in [10,20,30]:\n",
    "        for u in [0.3,0.4,0.5,0.6,0.7]:\n",
    "            exp_path = '%d/%d/%.2f' % (bandit_size, team_size, u)\n",
    "            \n",
    "            path = '/tmp/results_uniform_const_e-a/%s/results.pickle' % exp_path\n",
    "            \n",
    "            #if not os.path.exists('path'):\n",
    "            #    continue\n",
    "            \n",
    "            print('------%s-------' % exp_path)\n",
    "        \n",
    "            plot_all(path, 'uniform', '/tmp')"
   ]
  },
  {
   "cell_type": "code",
   "execution_count": 17,
   "metadata": {
    "collapsed": false
   },
   "outputs": [
    {
     "name": "stdout",
     "output_type": "stream",
     "text": [
      "100/10/0.40 -1\n",
      "100/10/0.60 -1\n",
      "100/20/0.40 -1\n",
      "100/20/0.60 -1\n",
      "100/30/0.40 -1\n",
      "100/30/0.60 -1\n",
      "200/10/0.40 -1\n",
      "200/10/0.60 -1\n",
      "200/20/0.40 -1\n",
      "200/20/0.60 -1\n"
     ]
    }
   ],
   "source": [
    "#tau for uniform\n",
    "for bandit_size in [100, 200, 300]:\n",
    "    for team_size in [10,20,30]:\n",
    "        for u in [0.3,0.4,0.5,0.6,0.7]:\n",
    "            exp_path = '%d/%d/%.2f' % (bandit_size, team_size, u)\n",
    "            path = '/tmp/results_uniform_const_e-a/%s/results.pickle' % exp_path\n",
    "            \n",
    "            if not os.path.exists(path):\n",
    "                continue\n",
    "            \n",
    "            print(exp_path, tau(path))"
   ]
  },
  {
   "cell_type": "code",
   "execution_count": 18,
   "metadata": {
    "collapsed": false
   },
   "outputs": [
    {
     "name": "stdout",
     "output_type": "stream",
     "text": [
      "100/10/0.20 -1\n",
      "100/10/0.40 -1\n",
      "100/10/0.60 -1\n",
      "100/20/0.20 -1\n",
      "100/20/0.40 -1\n",
      "100/20/0.60 -1\n",
      "100/30/0.20 -1\n",
      "100/30/0.40 -1\n",
      "100/30/0.60 -1\n",
      "200/10/0.20 -1\n",
      "200/10/0.40 -1\n",
      "200/10/0.60 -1\n",
      "200/20/0.20 -1\n",
      "200/20/0.40 -1\n",
      "200/20/0.60 -1\n"
     ]
    }
   ],
   "source": [
    "#tau for gaussian\n",
    "for bandit_size in [100, 200, 300]:\n",
    "    for team_size in [10,20,30]:\n",
    "        for u in [0.2, .4, .6]:\n",
    "            exp_path = '%d/%d/%.2f' % (bandit_size, team_size, u)\n",
    "            path = '/tmp/results_gaussian_const_e-a/%s/results.pickle' % exp_path\n",
    "            \n",
    "            if not os.path.exists(path):\n",
    "                continue\n",
    "            \n",
    "            print(exp_path, tau(path))"
   ]
  },
  {
   "cell_type": "code",
   "execution_count": null,
   "metadata": {
    "collapsed": false,
    "deletable": true,
    "editable": true
   },
   "outputs": [],
   "source": [
    "#plot_pbest(, 'Gaussian', '/tmp/')\n",
    "data = load_pickle('results_gaussian/100/10/0.20/results.pickle')\n",
    "rwd_lta, rwd_ltd, mean_pbest_lta, mean_pbest_ltd, cmrwd_lta, cmrwd_ltd, tbest_lta, tbest_ltd, meeting_point = data\n",
    "\n",
    "plot(rwd_lta, rwd_ltd, 'Cumulative reward', 'LtD-gaussian', '/tmp')\n",
    "plot(mean_pbest_ltd, cmrwd_ltd, 'Prob. of best action', 'LtD-gaussian', '/tmp')\n"
   ]
  }
 ],
 "metadata": {
  "kernelspec": {
   "display_name": "Python 3",
   "language": "python",
   "name": "python3"
  },
  "language_info": {
   "codemirror_mode": {
    "name": "ipython",
    "version": 3
   },
   "file_extension": ".py",
   "mimetype": "text/x-python",
   "name": "python",
   "nbconvert_exporter": "python",
   "pygments_lexer": "ipython3",
   "version": "3.5.2"
  }
 },
 "nbformat": 4,
 "nbformat_minor": 2
}
