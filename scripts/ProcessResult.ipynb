{
 "cells": [
  {
   "cell_type": "code",
   "execution_count": 83,
   "metadata": {
    "collapsed": false,
    "deletable": true,
    "editable": true
   },
   "outputs": [
    {
     "name": "stderr",
     "output_type": "stream",
     "text": [
      "/usr/local/lib/python3.5/dist-packages/matplotlib/__init__.py:1405: UserWarning: \n",
      "This call to matplotlib.use() has no effect because the backend has already\n",
      "been chosen; matplotlib.use() must be called *before* pylab, matplotlib.pyplot,\n",
      "or matplotlib.backends is imported for the first time.\n",
      "\n",
      "  warnings.warn(_use_error_msg)\n"
     ]
    }
   ],
   "source": [
    "import matplotlib\n",
    "matplotlib.use('Qt4Agg')\n",
    "import matplotlib.pyplot as plt\n",
    "import scipy.stats as stats\n",
    "import os\n",
    "import sys\n",
    "from multiprocessing import Pool\n",
    "import copy\n",
    "from math import ceil\n",
    "import numpy as np\n",
    "import pickle\n",
    "\n",
    "def load_pickle(datapath):\n",
    "    data_file = open(datapath, 'rb')\n",
    "    data = pickle.load(data_file)\n",
    "    data_file.close()\n",
    "    \n",
    "    \"\"\" \n",
    "    data was saved as: \n",
    "    [\n",
    "        np.mean(executionRewardsActions, 0),\n",
    "        np.mean(executionRewardsLtD, 0),\n",
    "        np.mean(p_best_lta, 0),\n",
    "        np.mean(p_best_ltd, 0),\n",
    "        np.mean(cumulative_rewards_lta, 0),\n",
    "        np.mean(cumulative_rewards_ltd, 0),\n",
    "        np.mean(times_best_lta, 0),\n",
    "        np.mean(times_best_ltd, 0),\n",
    "    ]\n",
    "    \"\"\"\n",
    "    \n",
    "    return data\n",
    "\n",
    "def plot(lta_data, ltd_data, ylabel, ltd_name, figpath, figsuffix):\n",
    "    plt.figure()\n",
    "    plt.plot(lta_data,label=\"LtA\")\n",
    "    plt.plot(ltd_data,label=ltd_name)\n",
    "    plt.xlabel(\"Iteration\")\n",
    "    plt.ylabel(ylabel)\n",
    "    plt.legend()\n",
    "    plt.show()  #it does not work\n",
    "    plt.savefig(os.path.join(figpath, '%s_%s.pdf' % (ltd_name.lower(), figsuffix))) #it works\n",
    "    plt.close()\n",
    "    \n",
    "    \n",
    "def plot_all(datapath, ltd_name, figpath):\n",
    "    data = load_pickle(datapath)\n",
    "    rwd_lta, rwd_ltd, mean_pbest_lta, mean_pbest_ltd, cmrwd_lta, cmrwd_ltd, tbest_lta, tbest_ltd, meeting_point = data\n",
    "\n",
    "    plot(rwd_lta, rwd_ltd, 'Reward', ltd_name, figpath, 'reward')\n",
    "    plot(mean_pbest_lta, mean_pbest_ltd, 'Prob. of best action', ltd_name, figpath, 'pbest')\n",
    "    plot(cmrwd_lta, cmrwd_ltd, 'Cumulative reward', ltd_name, figpath, 'cmreward')\n",
    "    plot(tbest_lta, tbest_ltd, 'Cumulative #selections of best action', ltd_name, figpath, 'tbest')\n",
    "    print('Tau = %d' % meeting_point)\n",
    "    \n",
    "'''\n",
    "def plot_pbest(datapath, ltd_name, figpath):\n",
    "    \n",
    "    mean_rewards_lta, mean_rewards_ltd, mean_pbest_lta, mean_pbest_ltd, cmrwd_lta, cmrwd_ltd, tbest_lta, tbest_ltd, meeting_point = load_pickle(datapath)\n",
    "\n",
    "    plt.figure()\n",
    "    plt.plot(mean_rewards_lta,label=\"LtA\")\n",
    "    plt.plot(mean_rewards_ltd,label=ltd_name)\n",
    "    plt.xlabel(\"Iteration\")\n",
    "    plt.ylabel(\"Reward\")\n",
    "    plt.legend()\n",
    "    plt.show()  #it does not work\n",
    "    plt.savefig(os.path.join(figpath, 'rewards_%s.pdf' % ltd_name)) #it works\n",
    "    plt.close()\n",
    "'''   \n",
    "\n",
    "pass\n"
   ]
  },
  {
   "cell_type": "code",
   "execution_count": 84,
   "metadata": {
    "collapsed": false,
    "deletable": true,
    "editable": true
   },
   "outputs": [
    {
     "name": "stdout",
     "output_type": "stream",
     "text": [
      "Tau = 293\n"
     ]
    }
   ],
   "source": [
    "plot_all('results_gaussian/100/10/0.20/results.pickle', 'gauss', '/tmp')"
   ]
  },
  {
   "cell_type": "code",
   "execution_count": 11,
   "metadata": {
    "collapsed": false,
    "deletable": true,
    "editable": true
   },
   "outputs": [
    {
     "name": "stdout",
     "output_type": "stream",
     "text": [
      "['GTK', 'GTKAgg', 'GTKCairo', 'MacOSX', 'Qt4Agg', 'Qt5Agg', 'TkAgg', 'WX', 'WXAgg', 'GTK3Cairo', 'GTK3Agg', 'WebAgg', 'nbAgg', 'agg', 'cairo', 'gdk', 'pdf', 'pgf', 'ps', 'svg', 'template']\n"
     ]
    }
   ],
   "source": [
    "import matplotlib.rcsetup as rcsetup\n",
    "print(rcsetup.all_backends)"
   ]
  },
  {
   "cell_type": "code",
   "execution_count": 43,
   "metadata": {
    "collapsed": true
   },
   "outputs": [],
   "source": [
    "fig = plt.figure(figsize=(3, 6))\n",
    "\n",
    "plt.plot(range(10)) #plot example\n",
    "plt.show() #for control\n",
    "\n",
    "fig.savefig('temp.png', dpi=fig.dpi)"
   ]
  },
  {
   "cell_type": "code",
   "execution_count": null,
   "metadata": {
    "collapsed": true
   },
   "outputs": [],
   "source": []
  },
  {
   "cell_type": "code",
   "execution_count": 68,
   "metadata": {
    "collapsed": false,
    "deletable": true,
    "editable": true
   },
   "outputs": [
    {
     "ename": "TypeError",
     "evalue": "plot() missing 1 required positional argument: 'figsuffix'",
     "output_type": "error",
     "traceback": [
      "\u001b[0;31m---------------------------------------------------------------------------\u001b[0m",
      "\u001b[0;31mTypeError\u001b[0m                                 Traceback (most recent call last)",
      "\u001b[0;32m<ipython-input-68-567f8cece4cd>\u001b[0m in \u001b[0;36m<module>\u001b[0;34m()\u001b[0m\n\u001b[1;32m      3\u001b[0m \u001b[0mrwd_lta\u001b[0m\u001b[0;34m,\u001b[0m \u001b[0mrwd_ltd\u001b[0m\u001b[0;34m,\u001b[0m \u001b[0mmean_pbest_lta\u001b[0m\u001b[0;34m,\u001b[0m \u001b[0mmean_pbest_ltd\u001b[0m\u001b[0;34m,\u001b[0m \u001b[0mcmrwd_lta\u001b[0m\u001b[0;34m,\u001b[0m \u001b[0mcmrwd_ltd\u001b[0m\u001b[0;34m,\u001b[0m \u001b[0mtbest_lta\u001b[0m\u001b[0;34m,\u001b[0m \u001b[0mtbest_ltd\u001b[0m\u001b[0;34m,\u001b[0m \u001b[0mmeeting_point\u001b[0m \u001b[0;34m=\u001b[0m \u001b[0mdata\u001b[0m\u001b[0;34m\u001b[0m\u001b[0m\n\u001b[1;32m      4\u001b[0m \u001b[0;34m\u001b[0m\u001b[0m\n\u001b[0;32m----> 5\u001b[0;31m \u001b[0mplot\u001b[0m\u001b[0;34m(\u001b[0m\u001b[0mrwd_lta\u001b[0m\u001b[0;34m,\u001b[0m \u001b[0mrwd_ltd\u001b[0m\u001b[0;34m,\u001b[0m \u001b[0;34m'Cumulative reward'\u001b[0m\u001b[0;34m,\u001b[0m \u001b[0;34m'LtD-gaussian'\u001b[0m\u001b[0;34m,\u001b[0m \u001b[0;34m'/tmp'\u001b[0m\u001b[0;34m)\u001b[0m\u001b[0;34m\u001b[0m\u001b[0m\n\u001b[0m\u001b[1;32m      6\u001b[0m \u001b[0mplot\u001b[0m\u001b[0;34m(\u001b[0m\u001b[0mmean_pbest_ltd\u001b[0m\u001b[0;34m,\u001b[0m \u001b[0mcmrwd_ltd\u001b[0m\u001b[0;34m,\u001b[0m \u001b[0;34m'Prob. of best action'\u001b[0m\u001b[0;34m,\u001b[0m \u001b[0;34m'LtD-gaussian'\u001b[0m\u001b[0;34m,\u001b[0m \u001b[0;34m'/tmp'\u001b[0m\u001b[0;34m)\u001b[0m\u001b[0;34m\u001b[0m\u001b[0m\n",
      "\u001b[0;31mTypeError\u001b[0m: plot() missing 1 required positional argument: 'figsuffix'"
     ]
    }
   ],
   "source": [
    "#plot_pbest(, 'Gaussian', '/tmp/')\n",
    "data = load_pickle('results_gaussian/100/10/0.20/results.pickle')\n",
    "rwd_lta, rwd_ltd, mean_pbest_lta, mean_pbest_ltd, cmrwd_lta, cmrwd_ltd, tbest_lta, tbest_ltd, meeting_point = data\n",
    "\n",
    "plot(rwd_lta, rwd_ltd, 'Cumulative reward', 'LtD-gaussian', '/tmp')\n",
    "plot(mean_pbest_ltd, cmrwd_ltd, 'Prob. of best action', 'LtD-gaussian', '/tmp')\n"
   ]
  }
 ],
 "metadata": {
  "kernelspec": {
   "display_name": "Python 3",
   "language": "python",
   "name": "python3"
  },
  "language_info": {
   "codemirror_mode": {
    "name": "ipython",
    "version": 3
   },
   "file_extension": ".py",
   "mimetype": "text/x-python",
   "name": "python",
   "nbconvert_exporter": "python",
   "pygments_lexer": "ipython3",
   "version": "3.5.2"
  }
 },
 "nbformat": 4,
 "nbformat_minor": 2
}
