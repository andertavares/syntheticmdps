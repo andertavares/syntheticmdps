{
 "cells": [
  {
   "cell_type": "code",
   "execution_count": null,
   "metadata": {
    "collapsed": false,
    "deletable": true,
    "editable": true
   },
   "outputs": [],
   "source": [
    "import sys\n",
    "sys.path.append('../src')\n",
    "import plotting\n",
    "\n",
    "'''\n",
    "Plays with plotting, to verify the results of synthetic experiments\n",
    "'''\n",
    "# contains all performed experiments for ijcai, each experiment has a parameter under test\n",
    "# and the path to the config file\n",
    "setup = {\n",
    "    'uniform_actions': {\n",
    "        'param': 'bandit_sizes', 'path': '../configs/ijcai18/uniform_number-actions.ini',\n",
    "    },\n",
    "    'uniform_team': {\n",
    "        'param': 'team_sizes', 'path': '../configs/ijcai18/uniform_team-size.ini',\n",
    "    },\n",
    "    'uniform_u': {\n",
    "        'param': 'upper_bounds', 'path':'../configs/ijcai18/uniform_u.ini',\n",
    "    },\n",
    "    'gaussian_actions': {\n",
    "        'param': 'bandit_sizes', 'path': '../configs/ijcai18/gaussian_number-actions.ini',\n",
    "    },\n",
    "    'gaussian_team': {\n",
    "        'param': 'team_sizes', 'path': '../configs/ijcai18/gaussian_team-size.ini',\n",
    "    },\n",
    "    'gaussian_mu': {\n",
    "        'param': 'mus', 'path':'../configs/ijcai18/gaussian_mu.ini',\n",
    "    }\n",
    "}\n",
    "\n",
    "for name, exp in setup.items():\n",
    "    print(name, exp['param'], exp['path'])\n",
    "    results_root = '/tmp/%s/0/' % name\n",
    "    \n",
    "    x_pbest, y_pbest = plotting.gather_tau(exp['param'], exp['path'], 13, results_root)  #13 extracts meeting_pbest\n",
    "    x_crwd, y_crwd = plotting.gather_tau(exp['param'], exp['path'], 15, results_root)  #15 extracts meeting_cumulative_reward\n",
    "\n",
    "    plotting.plot_tau(x_pbest, y_pbest, exp['param'], r'$p_{a^*}$')\n",
    "    plotting.plot_tau(x_crwd, y_crwd, exp['param'], r'$\\sum$ rewards')\n"
   ]
  },
  {
   "cell_type": "code",
   "execution_count": null,
   "metadata": {
    "collapsed": true,
    "deletable": true,
    "editable": true
   },
   "outputs": [],
   "source": []
  }
 ],
 "metadata": {
  "kernelspec": {
   "display_name": "Python 3",
   "language": "python",
   "name": "python3"
  },
  "language_info": {
   "codemirror_mode": {
    "name": "ipython",
    "version": 3
   },
   "file_extension": ".py",
   "mimetype": "text/x-python",
   "name": "python",
   "nbconvert_exporter": "python",
   "pygments_lexer": "ipython3",
   "version": "3.5.2"
  }
 },
 "nbformat": 4,
 "nbformat_minor": 2
}
