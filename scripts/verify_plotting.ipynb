{
 "cells": [
  {
   "cell_type": "code",
   "execution_count": null,
   "metadata": {
    "collapsed": false,
    "deletable": true,
    "editable": true
   },
   "outputs": [],
   "source": [
    "sys.path.append('../src')\n",
    "import plotting\n",
    "\n",
    "'''\n",
    "Plays with plotting, to verify the results of synthetic experiments\n",
    "'''\n",
    "x_axis = 'team_sizes' #must be a valid field in the .ini config file\n",
    "config_src = '../configs/ijcai18/uniform_team-size.ini'\n",
    "results_root = '/tmp/uniform_team/0/'\n",
    "\n",
    "x_pbest, y_pbest = plotting.gather_tau(x_axis, config_src, 13, results_root)  #13 extracts meeting_pbest\n",
    "x_crwd, y_crwd = plotting.gather_tau(x_axis, config_src, 15, results_root)  #15 extracts meeting_cumulative_reward\n",
    "\n",
    "plotting.plot_tau(x_pbest, y_pbest, x_axis, r'$p_{a^*}$')\n",
    "plotting.plot_tau(x_crwd, y_crwd, x_axis, r'$\\sum$ rewards')\n"
   ]
  },
  {
   "cell_type": "code",
   "execution_count": null,
   "metadata": {
    "collapsed": true
   },
   "outputs": [],
   "source": []
  }
 ],
 "metadata": {
  "kernelspec": {
   "display_name": "Python 3",
   "language": "python",
   "name": "python3"
  },
  "language_info": {
   "codemirror_mode": {
    "name": "ipython",
    "version": 3
   },
   "file_extension": ".py",
   "mimetype": "text/x-python",
   "name": "python",
   "nbconvert_exporter": "python",
   "pygments_lexer": "ipython3",
   "version": "3.5.2"
  }
 },
 "nbformat": 4,
 "nbformat_minor": 2
}
